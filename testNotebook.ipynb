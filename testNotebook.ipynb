{
 "cells": [
  {
   "cell_type": "code",
   "execution_count": 1,
   "metadata": {},
   "outputs": [
    {
     "name": "stderr",
     "output_type": "stream",
     "text": [
      "2024-03-22 06:48:33.202041: I external/local_tsl/tsl/cuda/cudart_stub.cc:32] Could not find cuda drivers on your machine, GPU will not be used.\n",
      "2024-03-22 06:48:33.205098: I external/local_tsl/tsl/cuda/cudart_stub.cc:32] Could not find cuda drivers on your machine, GPU will not be used.\n",
      "2024-03-22 06:48:33.248823: I tensorflow/core/platform/cpu_feature_guard.cc:210] This TensorFlow binary is optimized to use available CPU instructions in performance-critical operations.\n",
      "To enable the following instructions: AVX2 FMA, in other operations, rebuild TensorFlow with the appropriate compiler flags.\n",
      "2024-03-22 06:48:34.255538: W tensorflow/compiler/tf2tensorrt/utils/py_utils.cc:38] TF-TRT Warning: Could not find TensorRT\n"
     ]
    },
    {
     "data": {
      "image/png": "[encoded data removed]",
      "text/plain": [
       "<Figure size 640x480 with 1 Axes>"
      ]
     },
     "metadata": {},
     "output_type": "display_data"
    }
   ],
   "source": [
    "import matplotlib.pyplot as plt\n",
    "import numpy as np\n",
    "from scipy.stats import skewnorm\n",
    "import tensorflow as tf\n",
    "\n",
    "# Define the number of samples, the location, the scale, and the skewness\n",
    "num_samples = 10000\n",
    "mu_data = 5.0  # location (mean) \n",
    "sd_data = 10.0  # scale (standard deviation) \n",
    "alpha_data = 5.0  # skewness (negative value means left skew, positive means right skew)\n",
    "\n",
    "# Generate samples from the skew normal distribution\n",
    "dist = skewnorm(alpha_data, mu_data, sd_data)\n",
    "samples = dist.rvs(num_samples)\n",
    "plt.hist(samples, bins=30, density=True, alpha=0.6, color='g')\n",
    "xmin, xmax = plt.xlim()\n",
    "# xmin = xmin + 1/7 * (xmax - xmin)\n",
    "x = np.linspace(xmin, xmax, 1000)\n",
    "p = skewnorm.pdf(x, alpha_data, mu_data, sd_data)\n",
    "plt.plot(x, p, 'k', linewidth=2)\n",
    "x_values = x \n",
    "y_values = p\n",
    "plt.show()"
   ]
  },
  {
   "cell_type": "code",
   "execution_count": 2,
   "metadata": {},
   "outputs": [],
   "source": [
    "class MyDense(tf.keras.layers.Layer):\n",
    "    def __init__(self, units, activation=None, **kwargs):\n",
    "        super().__init__(**kwargs)\n",
    "        self.units = units\n",
    "        self.activation = tf.keras.activations.get(activation)\n",
    "\n",
    "    def build(self, batch_input_shape):\n",
    "        self.kernel = self.add_weight(\n",
    "            name=\"kernel\", shape=[batch_input_shape[-1], self.units],\n",
    "            initializer=tf.keras.initializers.RandomNormal(mean=0.0, stddev=0.05))\n",
    "        self.bias = self.add_weight(\n",
    "            name=\"bias\", shape=[self.units], initializer=\"zeros\")\n",
    "\n",
    "    def call(self, X):\n",
    "        return self.activation(X @ self.kernel + self.bias)\n",
    "\n",
    "    def get_config(self):\n",
    "        base_config = super().get_config()\n",
    "        return {**base_config, \"units\": self.units,\n",
    "                \"activation\": tf.keras.activations.serialize(self.activation)}"
   ]
  },
  {
   "cell_type": "code",
   "execution_count": 15,
   "metadata": {},
   "outputs": [],
   "source": [
    "def skew_norm_pdf(x, location, scale, shape):\n",
    "    # Standardize the input\n",
    "    t = (x - location) / scale\n",
    "\n",
    "    # PDF of the standard normal distribution\n",
    "    pdf = tf.exp(-t**2 / 2) / np.sqrt(2*np.pi)\n",
    "\n",
    "    # CDF of the standard normal distribution\n",
    "    cdf = 0.5 * (1 + tf.math.erf(shape * t / np.sqrt(2)))\n",
    "\n",
    "    return 2 * pdf * cdf\n",
    "\n",
    "\n",
    "class OutputNeuron(tf.keras.layers.Layer):\n",
    "    def __init__(self, **kwargs):\n",
    "        super().__init__(**kwargs)\n",
    "\n",
    "    def call(self, inputs):\n",
    "        x, mu, sd, alpha = inputs\n",
    "        # x = tf.expand_dims(x, axis=-1)\n",
    "        return skew_norm_pdf(x, mu, sd, alpha)"
   ]
  },
  {
   "cell_type": "code",
   "execution_count": 16,
   "metadata": {},
   "outputs": [],
   "source": [
    "class SNRegressor(tf.keras.Model):\n",
    "    def __init__(self, x, **kwargs):\n",
    "        super().__init__(**kwargs)\n",
    "        self.denseBlock1 = MyDense(30, activation='relu')\n",
    "        self.denseBlock2 = MyDense(30, activation='relu')\n",
    "        self.mu = MyDense(1)\n",
    "        self.sd = MyDense(1, activation='softplus')\n",
    "        self.alpha = MyDense(1)\n",
    "        self.outputNeuron = OutputNeuron()\n",
    "        self.x = x\n",
    "        # self.out = tf.keras.layers.Dense(output_dim)\n",
    "\n",
    "    def call(self, input):\n",
    "        Z = self.denseBlock1(input)\n",
    "        Z = self.denseBlock2(Z)\n",
    "        mu = self.mu(Z)\n",
    "        sd = self.sd(Z) + tf.keras.backend.epsilon()\n",
    "        # print(sd)\n",
    "        alpha = self.alpha(Z)\n",
    "        return self.outputNeuron([self.x, mu, sd, alpha])\n",
    "    \n",
    "    def get_params(self, input):\n",
    "        Z = self.denseBlock1(input)\n",
    "        Z = self.denseBlock2(Z)\n",
    "        mu = self.mu(Z)\n",
    "        sd = self.sd(Z)\n",
    "        alpha = self.alpha(Z)\n",
    "        return mu, sd, alpha"
   ]
  },
  {
   "cell_type": "code",
   "execution_count": 17,
   "metadata": {},
   "outputs": [],
   "source": [
    "from sklearn.preprocessing import StandardScaler\n",
    "scaler = StandardScaler()\n",
    "x_values_reshaped = x_values.reshape(-1,1)\n",
    "y_values_reshaped = y_values.reshape(-1,1)\n",
    "X_train_scaled = scaler.fit_transform(x_values_reshaped)"
   ]
  },
  {
   "cell_type": "code",
   "execution_count": 21,
   "metadata": {},
   "outputs": [
    {
     "name": "stdout",
     "output_type": "stream",
     "text": [
      "Epoch 1/10\n"
     ]
    },
    {
     "name": "stdout",
     "output_type": "stream",
     "text": [
      "\u001b[1m32/32\u001b[0m \u001b[32m━━━━━━━━━━━━━━━━━━━━\u001b[0m\u001b[37m\u001b[0m \u001b[1m1s\u001b[0m 1ms/step - accuracy: 0.0000e+00 - loss: 0.0043\n",
      "Epoch 2/10\n",
      "\u001b[1m32/32\u001b[0m \u001b[32m━━━━━━━━━━━━━━━━━━━━\u001b[0m\u001b[37m\u001b[0m \u001b[1m0s\u001b[0m 1ms/step - accuracy: 0.0000e+00 - loss: 0.0039 \n",
      "Epoch 3/10\n",
      "\u001b[1m32/32\u001b[0m \u001b[32m━━━━━━━━━━━━━━━━━━━━\u001b[0m\u001b[37m\u001b[0m \u001b[1m0s\u001b[0m 1ms/step - accuracy: 0.0000e+00 - loss: 0.0029 \n",
      "Epoch 4/10\n",
      "\u001b[1m32/32\u001b[0m \u001b[32m━━━━━━━━━━━━━━━━━━━━\u001b[0m\u001b[37m\u001b[0m \u001b[1m0s\u001b[0m 1ms/step - accuracy: 0.0000e+00 - loss: 0.0016 \n",
      "Epoch 5/10\n",
      "\u001b[1m32/32\u001b[0m \u001b[32m━━━━━━━━━━━━━━━━━━━━\u001b[0m\u001b[37m\u001b[0m \u001b[1m0s\u001b[0m 1ms/step - accuracy: 0.0000e+00 - loss: 0.0012 \n",
      "Epoch 6/10\n",
      "\u001b[1m32/32\u001b[0m \u001b[32m━━━━━━━━━━━━━━━━━━━━\u001b[0m\u001b[37m\u001b[0m \u001b[1m0s\u001b[0m 1ms/step - accuracy: 0.0000e+00 - loss: 0.0011 \n",
      "Epoch 7/10\n",
      "\u001b[1m32/32\u001b[0m \u001b[32m━━━━━━━━━━━━━━━━━━━━\u001b[0m\u001b[37m\u001b[0m \u001b[1m0s\u001b[0m 1ms/step - accuracy: 0.0000e+00 - loss: 0.0011 \n",
      "Epoch 8/10\n",
      "\u001b[1m32/32\u001b[0m \u001b[32m━━━━━━━━━━━━━━━━━━━━\u001b[0m\u001b[37m\u001b[0m \u001b[1m0s\u001b[0m 2ms/step - accuracy: 0.0000e+00 - loss: 0.0011 \n",
      "Epoch 9/10\n",
      "\u001b[1m32/32\u001b[0m \u001b[32m━━━━━━━━━━━━━━━━━━━━\u001b[0m\u001b[37m\u001b[0m \u001b[1m0s\u001b[0m 1ms/step - accuracy: 0.0000e+00 - loss: 0.0011 \n",
      "Epoch 10/10\n",
      "\u001b[1m32/32\u001b[0m \u001b[32m━━━━━━━━━━━━━━━━━━━━\u001b[0m\u001b[37m\u001b[0m \u001b[1m0s\u001b[0m 1ms/step - accuracy: 0.0000e+00 - loss: 0.0011 \n"
     ]
    },
    {
     "data": {
      "text/plain": [
       "<keras.src.callbacks.history.History at 0x7f742dfe7190>"
      ]
     },
     "execution_count": 21,
     "metadata": {},
     "output_type": "execute_result"
    }
   ],
   "source": [
    "tf.keras.utils.set_random_seed(42)\n",
    "model = SNRegressor(x_values)\n",
    "model.compile(loss='mse', optimizer='adam', metrics=['accuracy'])\n",
    "model.fit(X_train_scaled, y_values_reshaped, epochs=10, batch_size=32)\n",
    "# model.summary()"
   ]
  },
  {
   "cell_type": "code",
   "execution_count": null,
   "metadata": {},
   "outputs": [],
   "source": [
    "mu, sd, alpha = model.get_params(x_values_reshaped)"
   ]
  },
  {
   "cell_type": "code",
   "execution_count": null,
   "metadata": {},
   "outputs": [],
   "source": [
    "print('mu:', tf.reduce_mean(mu))\n",
    "print('sd:', tf.reduce_mean(sd))\n",
    "print('alpha:', tf.reduce_mean(alpha))"
   ]
  },
  {
   "cell_type": "code",
   "execution_count": null,
   "metadata": {},
   "outputs": [],
   "source": [
    "predictions = skewnorm.pdf(x_values, np.mean(alpha), np.mean(mu), np.mean(sd))"
   ]
  },
  {
   "cell_type": "code",
   "execution_count": null,
   "metadata": {},
   "outputs": [],
   "source": [
    "plt.figure()\n",
    "# Create the first subplot\n",
    "plt.subplot(2, 1, 1)  # 2 rows, 1 column, first plot\n",
    "plt.plot(x_values, y_values)\n",
    "plt.title('X_test vs Y_test')\n",
    "\n",
    "# Create the second subplot\n",
    "plt.subplot(2, 1, 2)  # 2 rows, 1 column, second plot\n",
    "plt.plot(x_values, predictions)\n",
    "plt.title('X_test vs Predictions')\n",
    "\n",
    "# Display the plots\n",
    "plt.tight_layout()\n",
    "plt.show()"
   ]
  },
  {
   "cell_type": "code",
   "execution_count": null,
   "metadata": {},
   "outputs": [],
   "source": []
  }
 ],
 "metadata": {
  "kernelspec": {
   "display_name": "Python 3",
   "language": "python",
   "name": "python3"
  },
  "language_info": {
   "codemirror_mode": {
    "name": "ipython",
    "version": 3
   },
   "file_extension": ".py",
   "mimetype": "text/x-python",
   "name": "python",
   "nbconvert_exporter": "python",
   "pygments_lexer": "ipython3",
   "version": "3.10.13"
  }
 },
 "nbformat": 4,
 "nbformat_minor": 2
}
