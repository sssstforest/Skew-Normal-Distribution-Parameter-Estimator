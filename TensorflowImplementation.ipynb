{
 "cells": [
  {
   "cell_type": "code",
   "execution_count": 1,
   "metadata": {},
   "outputs": [
    {
     "name": "stderr",
     "output_type": "stream",
     "text": [
      "2024-03-22 06:16:40.801385: I external/local_tsl/tsl/cuda/cudart_stub.cc:32] Could not find cuda drivers on your machine, GPU will not be used.\n",
      "2024-03-22 06:16:40.804640: I external/local_tsl/tsl/cuda/cudart_stub.cc:32] Could not find cuda drivers on your machine, GPU will not be used.\n",
      "2024-03-22 06:16:40.844041: I tensorflow/core/platform/cpu_feature_guard.cc:210] This TensorFlow binary is optimized to use available CPU instructions in performance-critical operations.\n",
      "To enable the following instructions: AVX2 FMA, in other operations, rebuild TensorFlow with the appropriate compiler flags.\n",
      "2024-03-22 06:16:41.770397: W tensorflow/compiler/tf2tensorrt/utils/py_utils.cc:38] TF-TRT Warning: Could not find TensorRT\n"
     ]
    },
    {
     "data": {
      "image/png": "[encoded data removed]",
      "text/plain": [
       "<Figure size 640x480 with 1 Axes>"
      ]
     },
     "metadata": {},
     "output_type": "display_data"
    }
   ],
   "source": [
    "import matplotlib.pyplot as plt\n",
    "import numpy as np\n",
    "from scipy.stats import skewnorm\n",
    "import tensorflow as tf\n",
    "\n",
    "# Define the number of samples, the location, the scale, and the skewness\n",
    "num_samples = 10000\n",
    "mu_data = 5.0  # location (mean) \n",
    "sd_data = 10.0  # scale (standard deviation) \n",
    "alpha_data = 5.0  # skewness (negative value means left skew, positive means right skew)\n",
    "\n",
    "# Generate samples from the skew normal distribution\n",
    "dist = skewnorm(alpha_data, mu_data, sd_data)\n",
    "samples = dist.rvs(num_samples)\n",
    "plt.hist(samples, bins=30, density=True, alpha=0.6, color='g')\n",
    "xmin, xmax = plt.xlim()\n",
    "# xmin = xmin + 1/7 * (xmax - xmin)\n",
    "x = np.linspace(xmin, xmax, 1000)\n",
    "p = skewnorm.pdf(x, alpha_data, mu_data, sd_data)\n",
    "plt.plot(x, p, 'k', linewidth=2)\n",
    "x_values = x \n",
    "y_values = p\n",
    "plt.show()"
   ]
  },
  {
   "cell_type": "code",
   "execution_count": null,
   "metadata": {},
   "outputs": [],
   "source": [
    "# import tensorflow as tf\n",
    "\n",
    "# class SkewNormalLayer(tf.keras.layers.Layer):\n",
    "#     def __init__(self, num_outputs):\n",
    "#         super(SkewNormalLayer, self).__init__()\n",
    "\n",
    "#     def call(self, inputs):\n",
    "#         x, mu, sd, alpha = inputs\n",
    "#         x_skew = x + mu * alpha / sd\n",
    "#         sigma = sd * np.exp(-alpha)\n",
    "#         sn_dist = tf.distributions.SkewNormal(x_skew, sigma)\n",
    "#         return sn_dist.sample()"
   ]
  },
  {
   "cell_type": "code",
   "execution_count": null,
   "metadata": {},
   "outputs": [],
   "source": [
    "import tensorflow as tf\n",
    "# import tensorflow.compat.v2 as tf\n",
    "\n",
    "class MuSDAlphaLayer(tf.keras.layers.Layer):\n",
    "    def __init__(self, **kwargs):\n",
    "        super(MuSDAlphaLayer, self).__init__(**kwargs)\n",
    "        # Define three separate dense layers for mu, sd, and alpha\n",
    "        self.dense_mu = tf.keras.layers.Dense(1, name='mu')\n",
    "        self.dense_sd = tf.keras.layers.Dense(1, name='sd')\n",
    "        self.dense_alpha = tf.keras.layers.Dense(1, name='alpha')\n",
    "\n",
    "    def call(self, x):\n",
    "        # Compute mu, sd, and alpha\n",
    "        mu = self.dense_mu(x)\n",
    "        sd = self.dense_sd(x)\n",
    "        alpha = self.dense_alpha(x)\n",
    "        # Ensure that standard deviation (sd) is non-negative\n",
    "        sd = tf.keras.activations.relu(sd)\n",
    "        return mu, sd, alpha\n"
   ]
  },
  {
   "cell_type": "code",
   "execution_count": null,
   "metadata": {},
   "outputs": [],
   "source": [
    "import tensorflow as tf\n",
    "import numpy as np\n",
    "from scipy.stats import skewnorm\n",
    "\n",
    "def skew_normal(x, location, scale, shape):\n",
    "    return skewnorm.pdf(x, a=shape, loc=location, scale=scale)\n",
    "\n",
    "class SkewNormalLayer(tf.keras.layers.Layer):\n",
    "    def __init__(self, **kwargs):\n",
    "        super().__init__(**kwargs)\n",
    "\n",
    "    def call(self, inputs):\n",
    "        x, mu, sd, alpha = inputs\n",
    "        return tf.numpy_function(skew_normal, [x, mu, sd, alpha], tf.float32)\n",
    "\n",
    "    def compute_output_shape(self, input_shape):\n",
    "        # Assuming x, mu, sd, alpha have the same shape\n",
    "        return input_shape[0]"
   ]
  },
  {
   "cell_type": "code",
   "execution_count": null,
   "metadata": {},
   "outputs": [],
   "source": [
    "# Example usage in a model\n",
    "x_values = x_values.reshape(-1, 1)\n",
    "x_values_edited = x_values\n",
    "x_values_edited = tf.keras.Input(shape=(1,), dtype='float32')\n",
    "y_values = y_values.reshape(-1,1)\n",
    "# print(x_values.dtype)\n",
    "dense1 = tf.keras.layers.Dense(units=32, activation='relu')(x_values)\n",
    "mu, sd, alpha = MuSDAlphaLayer()(dense1)\n",
    "skew_normal_output = SkewNormalLayer()([x_values_edited, mu, sd, alpha])\n",
    "# # skew_normal_output = SkewNormalLayer()([x_values, mu, sd, alpha])\n",
    "model = tf.keras.Model(inputs=x_values_edited, outputs=skew_normal_output)\n"
   ]
  },
  {
   "cell_type": "code",
   "execution_count": null,
   "metadata": {},
   "outputs": [],
   "source": [
    "print(type(x_values), x_values.shape)\n",
    "print(type(y_values), y_values.shape)"
   ]
  },
  {
   "cell_type": "code",
   "execution_count": null,
   "metadata": {},
   "outputs": [],
   "source": [
    "model.compile(optimizer='adam', \n",
    "              loss='mean_squared_error', \n",
    "              metrics=['accuracy'])\n",
    "\n",
    "# Fit the model\n",
    "history = model.fit(x_values, y_values, \n",
    "                    epochs=10, \n",
    "                    )"
   ]
  },
  {
   "cell_type": "code",
   "execution_count": null,
   "metadata": {},
   "outputs": [],
   "source": [
    "# # import tensorflow as tf\n",
    "\n",
    "# class SkewNormalLayer(tf.keras.layers.Layer):\n",
    "#     def __init__(self, **kwargs):\n",
    "#         super(SkewNormalLayer, self).__init__(**kwargs)\n",
    "\n",
    "#     def call(self, inputs):\n",
    "#         # Unpack the inputs (assuming inputs = [x_values, mu, sd, alpha])\n",
    "#         x_values, mu, sd, alpha = inputs\n",
    "#         x_values = tf.cast(x_values, tf.float32)\n",
    "#         # Ensure sd is positive to avoid division by zero\n",
    "#         sd = tf.keras.activations.relu(sd) + tf.keras.backend.epsilon()\n",
    "\n",
    "#         # Compute the skew normal distribution\n",
    "#         # Note: This is a simplified example. You may need to implement a more\n",
    "#         #       accurate computation based on the skew normal distribution formula.\n",
    "#         norm_pdf = (1 / (sd * tf.sqrt(2 * tf.constant(np.pi)))) * \\\n",
    "#                    tf.exp(-0.5 * ((x_values - mu) / sd) ** 2)\n",
    "#         norm_cdf = 0.5 * (1 + tf.math.erf(alpha * (x_values - mu) / (sd * tf.sqrt(2))))\n",
    "#         skew_norm_pdf = 2 * norm_pdf * norm_cdf\n",
    "\n",
    "#         return skew_norm_pdf\n",
    "\n",
    "#     # Optionally, you can implement the `compute_output_shape` method if you need to\n",
    "#     # specify the shape of the output tensor."
   ]
  },
  {
   "cell_type": "code",
   "execution_count": null,
   "metadata": {},
   "outputs": [],
   "source": [
    "class OutputNeuron(tf.keras.layers.Layer):\n",
    "    def call(self, inputs):\n",
    "        x, mu, sd, alpha = inputs\n",
    "        # Make sure x is expanded to have the same shape as mu, sd, and alpha\n",
    "        x = tf.expand_dims(x, axis=-1)\n",
    "        return skew_norm_pdf(x, mu, sd, alpha)\n",
    "\n",
    "class SNRegressor(tf.keras.Model):\n",
    "    def __init__(self, ...):  # Add any arguments needed for your model\n",
    "        super(SNRegressor, self).__init__()\n",
    "        # Define your layers here\n",
    "        self.outputNeuron = OutputNeuron()\n",
    "\n",
    "    def call(self, inputs):\n",
    "        # Process inputs through your model\n",
    "        # ...\n",
    "        # Ensure that the shapes of mu, sd, and alpha are compatible with x\n",
    "        mu = ...\n",
    "        sd = ...\n",
    "        alpha = ...\n",
    "        # Pass a list of tensors to the OutputNeuron layer\n",
    "        return self.outputNeuron([inputs, mu, sd, alpha])\n",
    "\n",
    "# When reshaping x_values, ensure it has two dimensions\n",
    "x_values_reshaped = x_values.reshape(-1, 1)  # Assuming x_values is a 1D array\n",
    "y_values_reshaped = y_values.reshape(-1, 1)  # Assuming y_values is a 1D array\n",
    "\n",
    "# Create and compile the model\n",
    "model = SNRegressor(...)\n",
    "model.compile(loss='mean_squared_error', optimizer='adam', metrics=['accuracy'])\n",
    "\n",
    "# Fit the model\n",
    "model.fit(x_values_reshaped, y_values_reshaped, epochs=10, batch_size=32)\n"
   ]
  },
  {
   "cell_type": "code",
   "execution_count": null,
   "metadata": {},
   "outputs": [],
   "source": [
    "import tensorflow as tf\n",
    "import numpy as np\n",
    "from scipy.stats import skewnorm\n",
    "\n",
    "def skew_normal(x, location, scale, shape):\n",
    "    return skewnorm.pdf(x, a=shape, loc=location, scale=scale)\n",
    "\n",
    "class SkewNormalLayer(tf.keras.layers.Layer):\n",
    "    def __init__(self, **kwargs):\n",
    "        super().__init__(**kwargs)\n",
    "\n",
    "    def call(self, inputs):\n",
    "        x, mu, sd, alpha = inputs\n",
    "        return tf.numpy_function(skew_normal, [x, mu, sd, alpha], tf.float32)"
   ]
  },
  {
   "cell_type": "code",
   "execution_count": null,
   "metadata": {},
   "outputs": [],
   "source": [
    "# import tensorflow as tf\n",
    "import tensorflow_probability as tfp\n",
    "\n",
    "class SkewNormalLayer(tf.keras.layers.Layer):\n",
    "    def __init__(self, **kwargs):\n",
    "        super(SkewNormalLayer, self).__init__(**kwargs)\n",
    "\n",
    "    def call(self, inputs):\n",
    "        # Unpack the inputs (assuming inputs = [x_values, mu, sd, alpha])\n",
    "        x_values, mu, sd, alpha = inputs\n",
    "        \n",
    "        # Ensure sd is positive to avoid division by zero\n",
    "        sd = tf.keras.activations.relu(sd) + tf.keras.backend.epsilon()\n",
    "\n",
    "        # Create skew normal distribution using TFP\n",
    "        skew_normal_dist = tfp.distributions.TwoPieceNormal(loc=mu, scale=sd, skewness=alpha)\n",
    "\n",
    "        # Compute the probability density function (PDF) of skew normal distribution\n",
    "        skew_norm_pdf = skew_normal_dist.prob(x_values)\n",
    "\n",
    "        return skew_norm_pdf\n",
    "\n",
    "# # Example usage in a model\n",
    "# x_values = tf.keras.Input(shape=(1,))\n",
    "# mu, sd, alpha = MuSDAlphaLayer()(previous_layer_output)\n",
    "# skew_normal_output = SkewNormalLayer()([x_values, mu, sd, alpha])\n",
    "# model = tf.keras.Model(inputs=[x_values, previous_layer_input], outputs=skew_normal_output)\n"
   ]
  },
  {
   "cell_type": "code",
   "execution_count": null,
   "metadata": {},
   "outputs": [],
   "source": [
    "# Assuming you have the outputs mu, sd, alpha from the previous layer\n",
    "# and an input tensor x_values representing the x-values for the distribution\n",
    "x_values = tf.keras.Input(shape=(1,))\n",
    "mu, sd, alpha = MuSDAlphaLayer()(previous_layer_output)\n",
    "\n",
    "# Create the SkewNormalLayer and pass the required inputs\n",
    "skew_normal_output = SkewNormalLayer()([x_values, mu, sd, alpha])\n",
    "\n",
    "# Create the model\n",
    "model = tf.keras.Model(inputs=[x_values, previous_layer_input], outputs=skew_normal_output)\n"
   ]
  },
  {
   "cell_type": "code",
   "execution_count": null,
   "metadata": {},
   "outputs": [],
   "source": [
    "# Create a model\n",
    "model = tf.keras.models.Sequential([\n",
    "    tf.keras.layers.Dense(128, activation='relu'),\n",
    "    MuSDAlphaLayer(64),\n",
    "    SkewNormalLayer(64),\n",
    "    tf.keras.layers.Dense(32, activation='relu'),\n",
    "    tf.keras.layers.Dense(10, activation='softmax')\n",
    "])\n",
    "\n",
    "# Train and evaluate the model\n",
    "model.compile(optimizer='adam', loss='categorical_crossentropy', metrics=['accuracy'])\n",
    "model.fit(x_values, y_values, epochs=10)\n",
    "# model.evaluate(X_test, Y_test)"
   ]
  },
  {
   "cell_type": "code",
   "execution_count": null,
   "metadata": {},
   "outputs": [],
   "source": []
  },
  {
   "cell_type": "code",
   "execution_count": null,
   "metadata": {},
   "outputs": [],
   "source": []
  },
  {
   "cell_type": "code",
   "execution_count": null,
   "metadata": {},
   "outputs": [],
   "source": []
  },
  {
   "cell_type": "code",
   "execution_count": 2,
   "metadata": {},
   "outputs": [],
   "source": [
    "class MyDense(tf.keras.layers.Layer):\n",
    "    def __init__(self, units, activation=None, **kwargs):\n",
    "        super().__init__(**kwargs)\n",
    "        self.units = units\n",
    "        self.activation = tf.keras.activations.get(activation)\n",
    "\n",
    "    def build(self, batch_input_shape):\n",
    "        self.kernel = self.add_weight(\n",
    "            name=\"kernel\", shape=[batch_input_shape[-1], self.units],\n",
    "            initializer=tf.keras.initializers.RandomNormal(mean=0.0, stddev=0.05))\n",
    "        self.bias = self.add_weight(\n",
    "            name=\"bias\", shape=[self.units], initializer=\"zeros\")\n",
    "\n",
    "    def call(self, X):\n",
    "        return self.activation(X @ self.kernel + self.bias)\n",
    "\n",
    "    def get_config(self):\n",
    "        base_config = super().get_config()\n",
    "        return {**base_config, \"units\": self.units,\n",
    "                \"activation\": tf.keras.activations.serialize(self.activation)}"
   ]
  },
  {
   "cell_type": "code",
   "execution_count": 7,
   "metadata": {},
   "outputs": [],
   "source": [
    "def skew_norm_pdf(x, location, scale, shape):\n",
    "    # Standardize the input\n",
    "    t = (x - location) / scale\n",
    "\n",
    "    # PDF of the standard normal distribution\n",
    "    pdf = tf.exp(-t**2 / 2) / np.sqrt(2*np.pi)\n",
    "\n",
    "    # CDF of the standard normal distribution\n",
    "    cdf = 0.5 * (1 + tf.math.erf(shape * t / np.sqrt(2)))\n",
    "\n",
    "    return 2 * pdf * cdf\n",
    "\n",
    "class OutputNeuron(tf.keras.layers.Layer):\n",
    "    def __init__(self, **kwargs):\n",
    "        super().__init__(**kwargs)\n",
    "\n",
    "    def call(self, x, mu, sd, alpha):\n",
    "        return skew_norm_pdf(x, mu, sd, alpha)\n",
    "        # x_skew = x + mu * alpha / sd\n",
    "        # sigma = sd * np.exp(-alpha)\n",
    "        # sn_dist = tf.distributions.SkewNormal(x_skew, sigma)\n",
    "        # return sn_dist.sample()"
   ]
  },
  {
   "cell_type": "code",
   "execution_count": 8,
   "metadata": {},
   "outputs": [],
   "source": [
    "class SNRegressor(tf.keras.Model):\n",
    "    def __init__(self, x, **kwargs):\n",
    "        super().__init__(**kwargs)\n",
    "        self.denseBlock1 = MyDense(30, activation='relu')\n",
    "        self.denseBlock2 = MyDense(30, activation='relu')\n",
    "        self.mu = MyDense(1)\n",
    "        self.sd = MyDense(1, activation='softplus')\n",
    "        self.alpha = MyDense(1)\n",
    "        self.outputNeuron = OutputNeuron()\n",
    "        self.x = x\n",
    "        # self.out = tf.keras.layers.Dense(output_dim)\n",
    "\n",
    "    def call(self, input):\n",
    "        Z = self.denseBlock1(input)\n",
    "        Z = self.denseBlock2(Z)\n",
    "        mu = self.mu(Z)\n",
    "        sd = self.sd(Z)\n",
    "        # print(sd)\n",
    "        alpha = self.alpha(Z)\n",
    "        return self.outputNeuron(self.x, mu, sd, alpha)\n",
    "    \n",
    "    def get_params(self, input):\n",
    "        Z = self.denseBlock1(input)\n",
    "        Z = self.denseBlock2(Z)\n",
    "        mu = self.mu(Z)\n",
    "        sd = self.sd(Z)\n",
    "        alpha = self.alpha(Z)\n",
    "        return mu, sd, alpha"
   ]
  },
  {
   "cell_type": "code",
   "execution_count": 9,
   "metadata": {},
   "outputs": [],
   "source": [
    "from sklearn.preprocessing import StandardScaler\n",
    "scaler = StandardScaler()\n",
    "x_values_reshaped = x_values.reshape(-1,1)\n",
    "y_values_reshaped = y_values.reshape(-1,1)\n",
    "X_train_scaled = scaler.fit_transform(x_values_reshaped)"
   ]
  },
  {
   "cell_type": "code",
   "execution_count": 10,
   "metadata": {},
   "outputs": [
    {
     "name": "stdout",
     "output_type": "stream",
     "text": [
      "Epoch 1/10\n",
      "\u001b[1m32/32\u001b[0m \u001b[32m━━━━━━━━━━━━━━━━━━━━\u001b[0m\u001b[37m\u001b[0m \u001b[1m1s\u001b[0m 1ms/step - loss: 0.0042\n",
      "Epoch 2/10\n",
      "\u001b[1m32/32\u001b[0m \u001b[32m━━━━━━━━━━━━━━━━━━━━\u001b[0m\u001b[37m\u001b[0m \u001b[1m0s\u001b[0m 1ms/step - loss: 0.0038 \n",
      "Epoch 3/10\n",
      "\u001b[1m32/32\u001b[0m \u001b[32m━━━━━━━━━━━━━━━━━━━━\u001b[0m\u001b[37m\u001b[0m \u001b[1m0s\u001b[0m 1ms/step - loss: 0.0028 \n",
      "Epoch 4/10\n",
      "\u001b[1m32/32\u001b[0m \u001b[32m━━━━━━━━━━━━━━━━━━━━\u001b[0m\u001b[37m\u001b[0m \u001b[1m0s\u001b[0m 1ms/step - loss: 0.0016 \n",
      "Epoch 5/10\n",
      "\u001b[1m32/32\u001b[0m \u001b[32m━━━━━━━━━━━━━━━━━━━━\u001b[0m\u001b[37m\u001b[0m \u001b[1m0s\u001b[0m 1ms/step - loss: 0.0012 \n",
      "Epoch 6/10\n",
      "\u001b[1m32/32\u001b[0m \u001b[32m━━━━━━━━━━━━━━━━━━━━\u001b[0m\u001b[37m\u001b[0m \u001b[1m0s\u001b[0m 1ms/step - loss: 0.0011 \n",
      "Epoch 7/10\n",
      "\u001b[1m32/32\u001b[0m \u001b[32m━━━━━━━━━━━━━━━━━━━━\u001b[0m\u001b[37m\u001b[0m \u001b[1m0s\u001b[0m 1ms/step - loss: 0.0011 \n",
      "Epoch 8/10\n",
      "\u001b[1m32/32\u001b[0m \u001b[32m━━━━━━━━━━━━━━━━━━━━\u001b[0m\u001b[37m\u001b[0m \u001b[1m0s\u001b[0m 1ms/step - loss: 0.0011 \n",
      "Epoch 9/10\n",
      "\u001b[1m32/32\u001b[0m \u001b[32m━━━━━━━━━━━━━━━━━━━━\u001b[0m\u001b[37m\u001b[0m \u001b[1m0s\u001b[0m 1ms/step - loss: 0.0010 \n",
      "Epoch 10/10\n",
      "\u001b[1m32/32\u001b[0m \u001b[32m━━━━━━━━━━━━━━━━━━━━\u001b[0m\u001b[37m\u001b[0m \u001b[1m0s\u001b[0m 1ms/step - loss: 0.0010 \n"
     ]
    },
    {
     "data": {
      "text/plain": [
       "<keras.src.callbacks.history.History at 0x7f6dc41c71c0>"
      ]
     },
     "execution_count": 10,
     "metadata": {},
     "output_type": "execute_result"
    }
   ],
   "source": [
    "tf.keras.utils.set_random_seed(42)\n",
    "model = SNRegressor(x_values)\n",
    "model.compile(loss='mse', optimizer='adam')\n",
    "model.fit(X_train_scaled, y_values_reshaped, epochs=10, batch_size=32)\n",
    "# model.summary()"
   ]
  },
  {
   "cell_type": "code",
   "execution_count": 11,
   "metadata": {},
   "outputs": [],
   "source": [
    "mu, sd, alpha = model.get_params(X_train_scaled)"
   ]
  },
  {
   "cell_type": "code",
   "execution_count": 12,
   "metadata": {},
   "outputs": [
    {
     "name": "stdout",
     "output_type": "stream",
     "text": [
      "mu: tf.Tensor(0.09579903, shape=(), dtype=float32)\n",
      "sd: tf.Tensor(0.0041871285, shape=(), dtype=float32)\n",
      "alpha: tf.Tensor(0.07217724, shape=(), dtype=float32)\n"
     ]
    }
   ],
   "source": [
    "print('mu:', tf.reduce_mean(mu))\n",
    "print('sd:', tf.reduce_mean(sd))\n",
    "print('alpha:', tf.reduce_mean(alpha))"
   ]
  },
  {
   "cell_type": "code",
   "execution_count": 13,
   "metadata": {},
   "outputs": [],
   "source": [
    "predictions = skewnorm.pdf(x_values, np.mean(alpha), np.mean(mu), np.mean(sd))"
   ]
  },
  {
   "cell_type": "code",
   "execution_count": 14,
   "metadata": {},
   "outputs": [
    {
     "data": {
      "image/png": "[encoded data removed]",
      "text/plain": [
       "<Figure size 640x480 with 2 Axes>"
      ]
     },
     "metadata": {},
     "output_type": "display_data"
    }
   ],
   "source": [
    "plt.figure()\n",
    "# Create the first subplot\n",
    "plt.subplot(2, 1, 1)  # 2 rows, 1 column, first plot\n",
    "plt.plot(x_values, y_values)\n",
    "plt.title('X_test vs Y_test')\n",
    "\n",
    "# Create the second subplot\n",
    "plt.subplot(2, 1, 2)  # 2 rows, 1 column, second plot\n",
    "plt.plot(x_values, predictions)\n",
    "plt.title('X_test vs Predictions')\n",
    "\n",
    "# Display the plots\n",
    "plt.tight_layout()\n",
    "plt.show()"
   ]
  },
  {
   "cell_type": "code",
   "execution_count": null,
   "metadata": {},
   "outputs": [],
   "source": []
  },
  {
   "cell_type": "code",
   "execution_count": null,
   "metadata": {},
   "outputs": [],
   "source": []
  }
 ],
 "metadata": {
  "kernelspec": {
   "display_name": "env",
   "language": "python",
   "name": "python3"
  },
  "language_info": {
   "codemirror_mode": {
    "name": "ipython",
    "version": 3
   },
   "file_extension": ".py",
   "mimetype": "text/x-python",
   "name": "python",
   "nbconvert_exporter": "python",
   "pygments_lexer": "ipython3",
   "version": "3.10.13"
  }
 },
 "nbformat": 4,
 "nbformat_minor": 2
}
